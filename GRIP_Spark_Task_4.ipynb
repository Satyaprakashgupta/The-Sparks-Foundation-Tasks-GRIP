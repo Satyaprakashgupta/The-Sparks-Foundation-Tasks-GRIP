{
  "nbformat": 4,
  "nbformat_minor": 0,
  "metadata": {
    "colab": {
      "provenance": []
    },
    "kernelspec": {
      "name": "python3",
      "display_name": "Python 3"
    },
    "language_info": {
      "name": "python"
    }
  },
  "cells": [
    {
      "cell_type": "markdown",
      "source": [
        "# **Author : Satyaprakash Gupta**\n",
        "\n",
        "GRIP Task 4 : Stock Market Prediction using Numerical and Textual Analysis\n",
        "\n",
        "In this task I tried to create a hybrid model for stock price/performance prediction using numerical analysis of historical stock prices, and sentimental analysis of news headlines.  \n",
        "\n",
        "**Technical Stack : Sikit Learn, Numpy Array, Pandas, Matplotlib, Keras, NLTK, Textblob, Xgboost**"
      ],
      "metadata": {
        "id": "NPXnY-bqv_-2"
      }
    },
    {
      "cell_type": "code",
      "execution_count": 1,
      "metadata": {
        "colab": {
          "base_uri": "https://localhost:8080/"
        },
        "id": "kae2iEn7v-IL",
        "outputId": "8c10501a-2b72-4e67-a0ec-897c9c27ccaf"
      },
      "outputs": [
        {
          "output_type": "stream",
          "name": "stderr",
          "text": [
            "[nltk_data] Downloading package stopwords to /root/nltk_data...\n",
            "[nltk_data]   Package stopwords is already up-to-date!\n",
            "[nltk_data] Downloading package vader_lexicon to /root/nltk_data...\n",
            "[nltk_data]   Package vader_lexicon is already up-to-date!\n"
          ]
        }
      ],
      "source": [
        "#importing required libraries\n",
        "from sklearn.preprocessing import MinMaxScaler\n",
        "from sklearn.metrics import mean_squared_error\n",
        "from sklearn import metrics \n",
        "from keras.models import Sequential\n",
        "from keras.layers import Dense, LSTM\n",
        "import pandas as pd\n",
        "import matplotlib.pyplot as plt\n",
        "import numpy as np\n",
        "import math\n",
        "import re\n",
        "import nltk\n",
        "import re\n",
        "from nltk.corpus import stopwords\n",
        "nltk.download('stopwords')\n",
        "nltk.download('vader_lexicon')\n",
        "from textblob import TextBlob\n",
        "from nltk.sentiment.vader import SentimentIntensityAnalyzer\n",
        "from sklearn.ensemble import RandomForestRegressor, AdaBoostRegressor\n",
        "import xgboost "
      ]
    },
    {
      "cell_type": "markdown",
      "source": [
        "### **Step 1 : Importing the Numerical dataset and performing Exploratory Analysis**"
      ],
      "metadata": {
        "id": "mYr9RZrIwVpU"
      }
    },
    {
      "cell_type": "code",
      "source": [
        "# Dataframe for exploratory analysis\n",
        "df=pd.read_csv('/content/BSESN.csv')\n",
        "df.head()"
      ],
      "metadata": {
        "colab": {
          "base_uri": "https://localhost:8080/",
          "height": 206
        },
        "id": "RcdyNdp3wSSK",
        "outputId": "3703098c-0aab-4e28-8099-4ebb8edfc95b"
      },
      "execution_count": 2,
      "outputs": [
        {
          "output_type": "execute_result",
          "data": {
            "text/plain": [
              "         Date          Open          High           Low         Close  \\\n",
              "0  2019-12-17  41052.359375  41401.648438  41005.179688  41352.171875   \n",
              "1  2019-12-18  41442.750000  41614.769531  41358.468750  41558.570313   \n",
              "2  2019-12-19  41571.820313  41719.289063  41456.398438  41673.921875   \n",
              "3  2019-12-20  41746.199219  41809.960938  41636.109375  41681.539063   \n",
              "4  2019-12-23  41548.261719  41701.621094  41474.609375  41642.660156   \n",
              "\n",
              "      Adj Close   Volume  \n",
              "0  41352.171875  19000.0  \n",
              "1  41558.570313  24300.0  \n",
              "2  41673.921875  33300.0  \n",
              "3  41681.539063  33600.0  \n",
              "4  41642.660156   6200.0  "
            ],
            "text/html": [
              "\n",
              "  <div id=\"df-1b1553fd-e074-4746-801f-237637d23725\">\n",
              "    <div class=\"colab-df-container\">\n",
              "      <div>\n",
              "<style scoped>\n",
              "    .dataframe tbody tr th:only-of-type {\n",
              "        vertical-align: middle;\n",
              "    }\n",
              "\n",
              "    .dataframe tbody tr th {\n",
              "        vertical-align: top;\n",
              "    }\n",
              "\n",
              "    .dataframe thead th {\n",
              "        text-align: right;\n",
              "    }\n",
              "</style>\n",
              "<table border=\"1\" class=\"dataframe\">\n",
              "  <thead>\n",
              "    <tr style=\"text-align: right;\">\n",
              "      <th></th>\n",
              "      <th>Date</th>\n",
              "      <th>Open</th>\n",
              "      <th>High</th>\n",
              "      <th>Low</th>\n",
              "      <th>Close</th>\n",
              "      <th>Adj Close</th>\n",
              "      <th>Volume</th>\n",
              "    </tr>\n",
              "  </thead>\n",
              "  <tbody>\n",
              "    <tr>\n",
              "      <th>0</th>\n",
              "      <td>2019-12-17</td>\n",
              "      <td>41052.359375</td>\n",
              "      <td>41401.648438</td>\n",
              "      <td>41005.179688</td>\n",
              "      <td>41352.171875</td>\n",
              "      <td>41352.171875</td>\n",
              "      <td>19000.0</td>\n",
              "    </tr>\n",
              "    <tr>\n",
              "      <th>1</th>\n",
              "      <td>2019-12-18</td>\n",
              "      <td>41442.750000</td>\n",
              "      <td>41614.769531</td>\n",
              "      <td>41358.468750</td>\n",
              "      <td>41558.570313</td>\n",
              "      <td>41558.570313</td>\n",
              "      <td>24300.0</td>\n",
              "    </tr>\n",
              "    <tr>\n",
              "      <th>2</th>\n",
              "      <td>2019-12-19</td>\n",
              "      <td>41571.820313</td>\n",
              "      <td>41719.289063</td>\n",
              "      <td>41456.398438</td>\n",
              "      <td>41673.921875</td>\n",
              "      <td>41673.921875</td>\n",
              "      <td>33300.0</td>\n",
              "    </tr>\n",
              "    <tr>\n",
              "      <th>3</th>\n",
              "      <td>2019-12-20</td>\n",
              "      <td>41746.199219</td>\n",
              "      <td>41809.960938</td>\n",
              "      <td>41636.109375</td>\n",
              "      <td>41681.539063</td>\n",
              "      <td>41681.539063</td>\n",
              "      <td>33600.0</td>\n",
              "    </tr>\n",
              "    <tr>\n",
              "      <th>4</th>\n",
              "      <td>2019-12-23</td>\n",
              "      <td>41548.261719</td>\n",
              "      <td>41701.621094</td>\n",
              "      <td>41474.609375</td>\n",
              "      <td>41642.660156</td>\n",
              "      <td>41642.660156</td>\n",
              "      <td>6200.0</td>\n",
              "    </tr>\n",
              "  </tbody>\n",
              "</table>\n",
              "</div>\n",
              "      <button class=\"colab-df-convert\" onclick=\"convertToInteractive('df-1b1553fd-e074-4746-801f-237637d23725')\"\n",
              "              title=\"Convert this dataframe to an interactive table.\"\n",
              "              style=\"display:none;\">\n",
              "        \n",
              "  <svg xmlns=\"http://www.w3.org/2000/svg\" height=\"24px\"viewBox=\"0 0 24 24\"\n",
              "       width=\"24px\">\n",
              "    <path d=\"M0 0h24v24H0V0z\" fill=\"none\"/>\n",
              "    <path d=\"M18.56 5.44l.94 2.06.94-2.06 2.06-.94-2.06-.94-.94-2.06-.94 2.06-2.06.94zm-11 1L8.5 8.5l.94-2.06 2.06-.94-2.06-.94L8.5 2.5l-.94 2.06-2.06.94zm10 10l.94 2.06.94-2.06 2.06-.94-2.06-.94-.94-2.06-.94 2.06-2.06.94z\"/><path d=\"M17.41 7.96l-1.37-1.37c-.4-.4-.92-.59-1.43-.59-.52 0-1.04.2-1.43.59L10.3 9.45l-7.72 7.72c-.78.78-.78 2.05 0 2.83L4 21.41c.39.39.9.59 1.41.59.51 0 1.02-.2 1.41-.59l7.78-7.78 2.81-2.81c.8-.78.8-2.07 0-2.86zM5.41 20L4 18.59l7.72-7.72 1.47 1.35L5.41 20z\"/>\n",
              "  </svg>\n",
              "      </button>\n",
              "      \n",
              "  <style>\n",
              "    .colab-df-container {\n",
              "      display:flex;\n",
              "      flex-wrap:wrap;\n",
              "      gap: 12px;\n",
              "    }\n",
              "\n",
              "    .colab-df-convert {\n",
              "      background-color: #E8F0FE;\n",
              "      border: none;\n",
              "      border-radius: 50%;\n",
              "      cursor: pointer;\n",
              "      display: none;\n",
              "      fill: #1967D2;\n",
              "      height: 32px;\n",
              "      padding: 0 0 0 0;\n",
              "      width: 32px;\n",
              "    }\n",
              "\n",
              "    .colab-df-convert:hover {\n",
              "      background-color: #E2EBFA;\n",
              "      box-shadow: 0px 1px 2px rgba(60, 64, 67, 0.3), 0px 1px 3px 1px rgba(60, 64, 67, 0.15);\n",
              "      fill: #174EA6;\n",
              "    }\n",
              "\n",
              "    [theme=dark] .colab-df-convert {\n",
              "      background-color: #3B4455;\n",
              "      fill: #D2E3FC;\n",
              "    }\n",
              "\n",
              "    [theme=dark] .colab-df-convert:hover {\n",
              "      background-color: #434B5C;\n",
              "      box-shadow: 0px 1px 3px 1px rgba(0, 0, 0, 0.15);\n",
              "      filter: drop-shadow(0px 1px 2px rgba(0, 0, 0, 0.3));\n",
              "      fill: #FFFFFF;\n",
              "    }\n",
              "  </style>\n",
              "\n",
              "      <script>\n",
              "        const buttonEl =\n",
              "          document.querySelector('#df-1b1553fd-e074-4746-801f-237637d23725 button.colab-df-convert');\n",
              "        buttonEl.style.display =\n",
              "          google.colab.kernel.accessAllowed ? 'block' : 'none';\n",
              "\n",
              "        async function convertToInteractive(key) {\n",
              "          const element = document.querySelector('#df-1b1553fd-e074-4746-801f-237637d23725');\n",
              "          const dataTable =\n",
              "            await google.colab.kernel.invokeFunction('convertToInteractive',\n",
              "                                                     [key], {});\n",
              "          if (!dataTable) return;\n",
              "\n",
              "          const docLinkHtml = 'Like what you see? Visit the ' +\n",
              "            '<a target=\"_blank\" href=https://colab.research.google.com/notebooks/data_table.ipynb>data table notebook</a>'\n",
              "            + ' to learn more about interactive tables.';\n",
              "          element.innerHTML = '';\n",
              "          dataTable['output_type'] = 'display_data';\n",
              "          await google.colab.output.renderOutput(dataTable, element);\n",
              "          const docLink = document.createElement('div');\n",
              "          docLink.innerHTML = docLinkHtml;\n",
              "          element.appendChild(docLink);\n",
              "        }\n",
              "      </script>\n",
              "    </div>\n",
              "  </div>\n",
              "  "
            ]
          },
          "metadata": {},
          "execution_count": 2
        }
      ]
    },
    {
      "cell_type": "code",
      "source": [
        "# Extract date frame and plot closing stock price w.r.t time\n",
        "df['Date'] = pd.to_datetime(df.Date,format='%Y-%m-%d')\n",
        "df.index = df['Date']\n",
        "df.dropna(inplace=True)\n",
        "#plot\n",
        "plt.figure(figsize=(16,8))\n",
        "plt.plot(df['Close'], label='Close Price history')\n"
      ],
      "metadata": {
        "colab": {
          "base_uri": "https://localhost:8080/",
          "height": 693
        },
        "id": "xAfvAFCcwVAA",
        "outputId": "9602f89a-b4ff-4aba-8700-d4e9070e5da1"
      },
      "execution_count": 3,
      "outputs": [
        {
          "output_type": "execute_result",
          "data": {
            "text/plain": [
              "[<matplotlib.lines.Line2D at 0x7f0c11e94e50>]"
            ]
          },
          "metadata": {},
          "execution_count": 3
        },
        {
          "output_type": "display_data",
          "data": {
            "text/plain": [
              "<Figure size 1600x800 with 1 Axes>"
            ],
            "image/png": "[encoded data removed]"
          },
          "metadata": {}
        }
      ]
    },
    {
      "cell_type": "code",
      "source": [
        "# fix random seed for reproducibility\n",
        "np.random.seed(7)"
      ],
      "metadata": {
        "id": "_YtaYGtjyiIS"
      },
      "execution_count": 4,
      "outputs": []
    },
    {
      "cell_type": "markdown",
      "source": [
        "**Step 2 : Creating a dataframe for storing the Closing stock data per day**"
      ],
      "metadata": {
        "id": "Qe8smyKGynWc"
      }
    },
    {
      "cell_type": "code",
      "source": [
        "# convert an array of values into a dataset matrix\n",
        "def create_dataset(df2, look_back=1):\n",
        "\tdataX, dataY = [], []\n",
        "\tfor i in range(len(df2)-look_back-1):\n",
        "\t\ta = df2[i:(i+look_back), 0]\n",
        "\t\tdataX.append(a)\n",
        "\t\tdataY.append(df2[i + look_back, 0])\n",
        "\treturn np.array(dataX), np.array(dataY)"
      ],
      "metadata": {
        "id": "bOIgz1yfylIL"
      },
      "execution_count": 5,
      "outputs": []
    },
    {
      "cell_type": "code",
      "source": [
        "df2 = pd.read_csv('/content/BSESN.csv', usecols=[5], engine='python')\n",
        "df2.dropna(inplace=True)\n",
        "df2 = df2.values\n",
        "df2 = df2.astype('float32')"
      ],
      "metadata": {
        "id": "m2pdfqwvysNw"
      },
      "execution_count": 6,
      "outputs": []
    },
    {
      "cell_type": "markdown",
      "source": [
        "**Step 3 : Data Normalization and Division into Training and Test sets**"
      ],
      "metadata": {
        "id": "RlWS0mZTy1tR"
      }
    },
    {
      "cell_type": "code",
      "source": [
        "# normalize the dataset\n",
        "scaler = MinMaxScaler(feature_range=(0, 1))\n",
        "df2 = scaler.fit_transform(df2)\n",
        "\n",
        "# split into train and test sets\n",
        "train_size = int(len(df2) * 0.67)\n",
        "test_size = len(df2) - train_size\n",
        "train, test = df2[0:train_size,:], df2[train_size:len(df2),:]"
      ],
      "metadata": {
        "id": "O--H22L4yuwz"
      },
      "execution_count": 7,
      "outputs": []
    },
    {
      "cell_type": "code",
      "source": [
        "# reshape into X=t and Y=t+1\n",
        "look_back = 3\n",
        "trainX, trainY = create_dataset(train, look_back)\n",
        "testX, testY = create_dataset(test, look_back)\n",
        "# reshape input to be [samples, time steps, features]\n",
        "trainX = np.reshape(trainX, (trainX.shape[0], trainX.shape[1], 1))\n",
        "testX = np.reshape(testX, (testX.shape[0], testX.shape[1], 1))"
      ],
      "metadata": {
        "id": "WDi6ZHR8y8dl"
      },
      "execution_count": 8,
      "outputs": []
    },
    {
      "cell_type": "markdown",
      "source": [
        "**Step 4 : Creating a LSTM for Numerical Analysis**"
      ],
      "metadata": {
        "id": "lOc8NyrLzDhO"
      }
    },
    {
      "cell_type": "code",
      "source": [
        "# create and fit the LSTM network\n",
        "model = Sequential()\n",
        "model.add(LSTM(7, input_shape=(look_back, 1)))\n",
        "model.add(Dense(1))\n",
        "model.compile(loss='mean_squared_error', optimizer='adam')\n",
        "model.fit(trainX, trainY, epochs=100, batch_size=1, verbose=2)"
      ],
      "metadata": {
        "colab": {
          "base_uri": "https://localhost:8080/"
        },
        "id": "aGaDH_6YzAXl",
        "outputId": "8d9f0e5d-699f-4b54-cf26-96f55330ffea"
      },
      "execution_count": 9,
      "outputs": [
        {
          "output_type": "stream",
          "name": "stdout",
          "text": [
            "Epoch 1/100\n",
            "163/163 - 6s - loss: 0.0486 - 6s/epoch - 38ms/step\n",
            "Epoch 2/100\n",
            "163/163 - 1s - loss: 0.0081 - 1s/epoch - 9ms/step\n",
            "Epoch 3/100\n",
            "163/163 - 1s - loss: 0.0045 - 698ms/epoch - 4ms/step\n",
            "Epoch 4/100\n",
            "163/163 - 0s - loss: 0.0026 - 469ms/epoch - 3ms/step\n",
            "Epoch 5/100\n",
            "163/163 - 0s - loss: 0.0020 - 478ms/epoch - 3ms/step\n",
            "Epoch 6/100\n",
            "163/163 - 1s - loss: 0.0019 - 585ms/epoch - 4ms/step\n",
            "Epoch 7/100\n",
            "163/163 - 1s - loss: 0.0019 - 623ms/epoch - 4ms/step\n",
            "Epoch 8/100\n",
            "163/163 - 1s - loss: 0.0018 - 685ms/epoch - 4ms/step\n",
            "Epoch 9/100\n",
            "163/163 - 1s - loss: 0.0018 - 526ms/epoch - 3ms/step\n",
            "Epoch 10/100\n",
            "163/163 - 1s - loss: 0.0018 - 622ms/epoch - 4ms/step\n",
            "Epoch 11/100\n",
            "163/163 - 1s - loss: 0.0017 - 655ms/epoch - 4ms/step\n",
            "Epoch 12/100\n",
            "163/163 - 1s - loss: 0.0018 - 556ms/epoch - 3ms/step\n",
            "Epoch 13/100\n",
            "163/163 - 1s - loss: 0.0019 - 567ms/epoch - 3ms/step\n",
            "Epoch 14/100\n",
            "163/163 - 1s - loss: 0.0018 - 567ms/epoch - 3ms/step\n",
            "Epoch 15/100\n",
            "163/163 - 1s - loss: 0.0018 - 565ms/epoch - 3ms/step\n",
            "Epoch 16/100\n",
            "163/163 - 1s - loss: 0.0019 - 619ms/epoch - 4ms/step\n",
            "Epoch 17/100\n",
            "163/163 - 1s - loss: 0.0017 - 690ms/epoch - 4ms/step\n",
            "Epoch 18/100\n",
            "163/163 - 1s - loss: 0.0019 - 551ms/epoch - 3ms/step\n",
            "Epoch 19/100\n",
            "163/163 - 1s - loss: 0.0018 - 900ms/epoch - 6ms/step\n",
            "Epoch 20/100\n",
            "163/163 - 1s - loss: 0.0018 - 1s/epoch - 7ms/step\n",
            "Epoch 21/100\n",
            "163/163 - 1s - loss: 0.0018 - 1s/epoch - 7ms/step\n",
            "Epoch 22/100\n",
            "163/163 - 1s - loss: 0.0018 - 745ms/epoch - 5ms/step\n",
            "Epoch 23/100\n",
            "163/163 - 1s - loss: 0.0018 - 583ms/epoch - 4ms/step\n",
            "Epoch 24/100\n",
            "163/163 - 1s - loss: 0.0018 - 741ms/epoch - 5ms/step\n",
            "Epoch 25/100\n",
            "163/163 - 1s - loss: 0.0018 - 852ms/epoch - 5ms/step\n",
            "Epoch 26/100\n",
            "163/163 - 1s - loss: 0.0017 - 716ms/epoch - 4ms/step\n",
            "Epoch 27/100\n",
            "163/163 - 1s - loss: 0.0018 - 519ms/epoch - 3ms/step\n",
            "Epoch 28/100\n",
            "163/163 - 1s - loss: 0.0018 - 670ms/epoch - 4ms/step\n",
            "Epoch 29/100\n",
            "163/163 - 1s - loss: 0.0018 - 582ms/epoch - 4ms/step\n",
            "Epoch 30/100\n",
            "163/163 - 1s - loss: 0.0019 - 705ms/epoch - 4ms/step\n",
            "Epoch 31/100\n",
            "163/163 - 1s - loss: 0.0018 - 727ms/epoch - 4ms/step\n",
            "Epoch 32/100\n",
            "163/163 - 1s - loss: 0.0018 - 671ms/epoch - 4ms/step\n",
            "Epoch 33/100\n",
            "163/163 - 1s - loss: 0.0017 - 639ms/epoch - 4ms/step\n",
            "Epoch 34/100\n",
            "163/163 - 1s - loss: 0.0018 - 755ms/epoch - 5ms/step\n",
            "Epoch 35/100\n",
            "163/163 - 1s - loss: 0.0017 - 604ms/epoch - 4ms/step\n",
            "Epoch 36/100\n",
            "163/163 - 1s - loss: 0.0018 - 658ms/epoch - 4ms/step\n",
            "Epoch 37/100\n",
            "163/163 - 1s - loss: 0.0018 - 1s/epoch - 7ms/step\n",
            "Epoch 38/100\n",
            "163/163 - 1s - loss: 0.0017 - 973ms/epoch - 6ms/step\n",
            "Epoch 39/100\n",
            "163/163 - 1s - loss: 0.0018 - 945ms/epoch - 6ms/step\n",
            "Epoch 40/100\n",
            "163/163 - 1s - loss: 0.0019 - 629ms/epoch - 4ms/step\n",
            "Epoch 41/100\n",
            "163/163 - 0s - loss: 0.0017 - 356ms/epoch - 2ms/step\n",
            "Epoch 42/100\n",
            "163/163 - 0s - loss: 0.0017 - 368ms/epoch - 2ms/step\n",
            "Epoch 43/100\n",
            "163/163 - 0s - loss: 0.0017 - 350ms/epoch - 2ms/step\n",
            "Epoch 44/100\n",
            "163/163 - 0s - loss: 0.0017 - 347ms/epoch - 2ms/step\n",
            "Epoch 45/100\n",
            "163/163 - 0s - loss: 0.0017 - 329ms/epoch - 2ms/step\n",
            "Epoch 46/100\n",
            "163/163 - 0s - loss: 0.0017 - 345ms/epoch - 2ms/step\n",
            "Epoch 47/100\n",
            "163/163 - 0s - loss: 0.0017 - 345ms/epoch - 2ms/step\n",
            "Epoch 48/100\n",
            "163/163 - 0s - loss: 0.0016 - 359ms/epoch - 2ms/step\n",
            "Epoch 49/100\n",
            "163/163 - 0s - loss: 0.0017 - 357ms/epoch - 2ms/step\n",
            "Epoch 50/100\n",
            "163/163 - 0s - loss: 0.0017 - 390ms/epoch - 2ms/step\n",
            "Epoch 51/100\n",
            "163/163 - 0s - loss: 0.0017 - 349ms/epoch - 2ms/step\n",
            "Epoch 52/100\n",
            "163/163 - 0s - loss: 0.0016 - 380ms/epoch - 2ms/step\n",
            "Epoch 53/100\n",
            "163/163 - 0s - loss: 0.0017 - 343ms/epoch - 2ms/step\n",
            "Epoch 54/100\n",
            "163/163 - 0s - loss: 0.0018 - 377ms/epoch - 2ms/step\n",
            "Epoch 55/100\n",
            "163/163 - 0s - loss: 0.0016 - 342ms/epoch - 2ms/step\n",
            "Epoch 56/100\n",
            "163/163 - 0s - loss: 0.0016 - 354ms/epoch - 2ms/step\n",
            "Epoch 57/100\n",
            "163/163 - 0s - loss: 0.0016 - 348ms/epoch - 2ms/step\n",
            "Epoch 58/100\n",
            "163/163 - 0s - loss: 0.0016 - 384ms/epoch - 2ms/step\n",
            "Epoch 59/100\n",
            "163/163 - 0s - loss: 0.0017 - 370ms/epoch - 2ms/step\n",
            "Epoch 60/100\n",
            "163/163 - 0s - loss: 0.0016 - 371ms/epoch - 2ms/step\n",
            "Epoch 61/100\n",
            "163/163 - 0s - loss: 0.0016 - 347ms/epoch - 2ms/step\n",
            "Epoch 62/100\n",
            "163/163 - 0s - loss: 0.0016 - 361ms/epoch - 2ms/step\n",
            "Epoch 63/100\n",
            "163/163 - 0s - loss: 0.0016 - 358ms/epoch - 2ms/step\n",
            "Epoch 64/100\n",
            "163/163 - 0s - loss: 0.0016 - 343ms/epoch - 2ms/step\n",
            "Epoch 65/100\n",
            "163/163 - 0s - loss: 0.0016 - 376ms/epoch - 2ms/step\n",
            "Epoch 66/100\n",
            "163/163 - 1s - loss: 0.0015 - 536ms/epoch - 3ms/step\n",
            "Epoch 67/100\n",
            "163/163 - 1s - loss: 0.0015 - 524ms/epoch - 3ms/step\n",
            "Epoch 68/100\n",
            "163/163 - 1s - loss: 0.0015 - 583ms/epoch - 4ms/step\n",
            "Epoch 69/100\n",
            "163/163 - 1s - loss: 0.0016 - 588ms/epoch - 4ms/step\n",
            "Epoch 70/100\n",
            "163/163 - 0s - loss: 0.0015 - 492ms/epoch - 3ms/step\n",
            "Epoch 71/100\n",
            "163/163 - 0s - loss: 0.0015 - 360ms/epoch - 2ms/step\n",
            "Epoch 72/100\n",
            "163/163 - 0s - loss: 0.0015 - 378ms/epoch - 2ms/step\n",
            "Epoch 73/100\n",
            "163/163 - 0s - loss: 0.0016 - 330ms/epoch - 2ms/step\n",
            "Epoch 74/100\n",
            "163/163 - 0s - loss: 0.0015 - 350ms/epoch - 2ms/step\n",
            "Epoch 75/100\n",
            "163/163 - 0s - loss: 0.0015 - 353ms/epoch - 2ms/step\n",
            "Epoch 76/100\n",
            "163/163 - 0s - loss: 0.0015 - 364ms/epoch - 2ms/step\n",
            "Epoch 77/100\n",
            "163/163 - 0s - loss: 0.0015 - 386ms/epoch - 2ms/step\n",
            "Epoch 78/100\n",
            "163/163 - 0s - loss: 0.0014 - 352ms/epoch - 2ms/step\n",
            "Epoch 79/100\n",
            "163/163 - 0s - loss: 0.0014 - 374ms/epoch - 2ms/step\n",
            "Epoch 80/100\n",
            "163/163 - 0s - loss: 0.0014 - 352ms/epoch - 2ms/step\n",
            "Epoch 81/100\n",
            "163/163 - 0s - loss: 0.0014 - 331ms/epoch - 2ms/step\n",
            "Epoch 82/100\n",
            "163/163 - 0s - loss: 0.0015 - 371ms/epoch - 2ms/step\n",
            "Epoch 83/100\n",
            "163/163 - 0s - loss: 0.0014 - 356ms/epoch - 2ms/step\n",
            "Epoch 84/100\n",
            "163/163 - 0s - loss: 0.0014 - 336ms/epoch - 2ms/step\n",
            "Epoch 85/100\n",
            "163/163 - 0s - loss: 0.0014 - 357ms/epoch - 2ms/step\n",
            "Epoch 86/100\n",
            "163/163 - 0s - loss: 0.0014 - 346ms/epoch - 2ms/step\n",
            "Epoch 87/100\n",
            "163/163 - 0s - loss: 0.0014 - 338ms/epoch - 2ms/step\n",
            "Epoch 88/100\n",
            "163/163 - 0s - loss: 0.0014 - 359ms/epoch - 2ms/step\n",
            "Epoch 89/100\n",
            "163/163 - 0s - loss: 0.0014 - 361ms/epoch - 2ms/step\n",
            "Epoch 90/100\n",
            "163/163 - 0s - loss: 0.0014 - 344ms/epoch - 2ms/step\n",
            "Epoch 91/100\n",
            "163/163 - 0s - loss: 0.0014 - 363ms/epoch - 2ms/step\n",
            "Epoch 92/100\n",
            "163/163 - 0s - loss: 0.0014 - 335ms/epoch - 2ms/step\n",
            "Epoch 93/100\n",
            "163/163 - 0s - loss: 0.0014 - 345ms/epoch - 2ms/step\n",
            "Epoch 94/100\n",
            "163/163 - 0s - loss: 0.0014 - 323ms/epoch - 2ms/step\n",
            "Epoch 95/100\n",
            "163/163 - 0s - loss: 0.0014 - 321ms/epoch - 2ms/step\n",
            "Epoch 96/100\n",
            "163/163 - 0s - loss: 0.0013 - 343ms/epoch - 2ms/step\n",
            "Epoch 97/100\n",
            "163/163 - 0s - loss: 0.0015 - 358ms/epoch - 2ms/step\n",
            "Epoch 98/100\n",
            "163/163 - 0s - loss: 0.0014 - 360ms/epoch - 2ms/step\n",
            "Epoch 99/100\n",
            "163/163 - 1s - loss: 0.0013 - 574ms/epoch - 4ms/step\n",
            "Epoch 100/100\n",
            "163/163 - 1s - loss: 0.0015 - 557ms/epoch - 3ms/step\n"
          ]
        },
        {
          "output_type": "execute_result",
          "data": {
            "text/plain": [
              "<keras.callbacks.History at 0x7f0c11bac9d0>"
            ]
          },
          "metadata": {},
          "execution_count": 9
        }
      ]
    }
  ]
}